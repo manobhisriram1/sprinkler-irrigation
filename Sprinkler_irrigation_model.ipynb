{
  "cells": [
    {
      "cell_type": "code",
      "execution_count": 29,
      "metadata": {
        "id": "lOfUzWUb4DjK"
      },
      "outputs": [],
      "source": [
        "import pandas as pd\n",
        "from sklearn.model_selection import train_test_split\n",
        "from sklearn.linear_model import LinearRegression\n",
        "from sklearn.metrics import mean_squared_error"
      ]
    },
    {
      "cell_type": "code",
      "execution_count": 30,
      "metadata": {
        "colab": {
          "base_uri": "https://localhost:8080/",
          "height": 423
        },
        "id": "tpshS_kn4FMy",
        "outputId": "e713f39c-739d-475a-aff2-c54a08748bb4"
      },
      "outputs": [
        {
          "data": {
            "text/html": [
              "<div>\n",
              "<style scoped>\n",
              "    .dataframe tbody tr th:only-of-type {\n",
              "        vertical-align: middle;\n",
              "    }\n",
              "\n",
              "    .dataframe tbody tr th {\n",
              "        vertical-align: top;\n",
              "    }\n",
              "\n",
              "    .dataframe thead th {\n",
              "        text-align: right;\n",
              "    }\n",
              "</style>\n",
              "<table border=\"1\" class=\"dataframe\">\n",
              "  <thead>\n",
              "    <tr style=\"text-align: right;\">\n",
              "      <th></th>\n",
              "      <th>Temperature</th>\n",
              "      <th>Humidity</th>\n",
              "      <th>Sprinkler_Duration</th>\n",
              "    </tr>\n",
              "  </thead>\n",
              "  <tbody>\n",
              "    <tr>\n",
              "      <th>0</th>\n",
              "      <td>37.333173</td>\n",
              "      <td>55.958239</td>\n",
              "      <td>43.397338</td>\n",
              "    </tr>\n",
              "    <tr>\n",
              "      <th>1</th>\n",
              "      <td>41.083352</td>\n",
              "      <td>79.390758</td>\n",
              "      <td>61.881374</td>\n",
              "    </tr>\n",
              "    <tr>\n",
              "      <th>2</th>\n",
              "      <td>26.193361</td>\n",
              "      <td>39.168529</td>\n",
              "      <td>46.917671</td>\n",
              "    </tr>\n",
              "    <tr>\n",
              "      <th>3</th>\n",
              "      <td>41.279896</td>\n",
              "      <td>48.135288</td>\n",
              "      <td>38.182394</td>\n",
              "    </tr>\n",
              "    <tr>\n",
              "      <th>4</th>\n",
              "      <td>38.303768</td>\n",
              "      <td>76.559453</td>\n",
              "      <td>51.315277</td>\n",
              "    </tr>\n",
              "    <tr>\n",
              "      <th>...</th>\n",
              "      <td>...</td>\n",
              "      <td>...</td>\n",
              "      <td>...</td>\n",
              "    </tr>\n",
              "    <tr>\n",
              "      <th>995</th>\n",
              "      <td>41.885368</td>\n",
              "      <td>59.392376</td>\n",
              "      <td>45.238663</td>\n",
              "    </tr>\n",
              "    <tr>\n",
              "      <th>996</th>\n",
              "      <td>33.098216</td>\n",
              "      <td>63.430550</td>\n",
              "      <td>36.124308</td>\n",
              "    </tr>\n",
              "    <tr>\n",
              "      <th>997</th>\n",
              "      <td>23.581809</td>\n",
              "      <td>63.030554</td>\n",
              "      <td>35.496480</td>\n",
              "    </tr>\n",
              "    <tr>\n",
              "      <th>998</th>\n",
              "      <td>23.233847</td>\n",
              "      <td>60.926551</td>\n",
              "      <td>34.109839</td>\n",
              "    </tr>\n",
              "    <tr>\n",
              "      <th>999</th>\n",
              "      <td>25.873513</td>\n",
              "      <td>62.019979</td>\n",
              "      <td>45.040139</td>\n",
              "    </tr>\n",
              "  </tbody>\n",
              "</table>\n",
              "<p>1000 rows × 3 columns</p>\n",
              "</div>"
            ],
            "text/plain": [
              "     Temperature   Humidity  Sprinkler_Duration\n",
              "0      37.333173  55.958239           43.397338\n",
              "1      41.083352  79.390758           61.881374\n",
              "2      26.193361  39.168529           46.917671\n",
              "3      41.279896  48.135288           38.182394\n",
              "4      38.303768  76.559453           51.315277\n",
              "..           ...        ...                 ...\n",
              "995    41.885368  59.392376           45.238663\n",
              "996    33.098216  63.430550           36.124308\n",
              "997    23.581809  63.030554           35.496480\n",
              "998    23.233847  60.926551           34.109839\n",
              "999    25.873513  62.019979           45.040139\n",
              "\n",
              "[1000 rows x 3 columns]"
            ]
          },
          "execution_count": 30,
          "metadata": {},
          "output_type": "execute_result"
        }
      ],
      "source": [
        "data = pd.read_csv('sprinkler_dataset.csv')\n",
        "data\n"
      ]
    },
    {
      "cell_type": "code",
      "execution_count": 31,
      "metadata": {
        "colab": {
          "base_uri": "https://localhost:8080/",
          "height": 452
        },
        "id": "vBhSWVdzUiHZ",
        "outputId": "0bfadc40-7079-460c-efa5-05f2efe88f49"
      },
      "outputs": [
        {
          "ename": "ModuleNotFoundError",
          "evalue": "No module named 'matplotlib'",
          "output_type": "error",
          "traceback": [
            "\u001b[1;31m---------------------------------------------------------------------------\u001b[0m",
            "\u001b[1;31mModuleNotFoundError\u001b[0m                       Traceback (most recent call last)",
            "Cell \u001b[1;32mIn[31], line 1\u001b[0m\n\u001b[1;32m----> 1\u001b[0m \u001b[38;5;28;01mfrom\u001b[39;00m \u001b[38;5;21;01mmatplotlib\u001b[39;00m \u001b[38;5;28;01mimport\u001b[39;00m pyplot \u001b[38;5;28;01mas\u001b[39;00m plt\n\u001b[0;32m      2\u001b[0m data[\u001b[38;5;124m'\u001b[39m\u001b[38;5;124mSprinkler_Duration\u001b[39m\u001b[38;5;124m'\u001b[39m]\u001b[38;5;241m.\u001b[39mplot(kind\u001b[38;5;241m=\u001b[39m\u001b[38;5;124m'\u001b[39m\u001b[38;5;124mhist\u001b[39m\u001b[38;5;124m'\u001b[39m, bins\u001b[38;5;241m=\u001b[39m\u001b[38;5;241m20\u001b[39m, title\u001b[38;5;241m=\u001b[39m\u001b[38;5;124m'\u001b[39m\u001b[38;5;124mSprinkler_Duration\u001b[39m\u001b[38;5;124m'\u001b[39m)\n\u001b[0;32m      3\u001b[0m plt\u001b[38;5;241m.\u001b[39mgca()\u001b[38;5;241m.\u001b[39mspines[[\u001b[38;5;124m'\u001b[39m\u001b[38;5;124mtop\u001b[39m\u001b[38;5;124m'\u001b[39m, \u001b[38;5;124m'\u001b[39m\u001b[38;5;124mright\u001b[39m\u001b[38;5;124m'\u001b[39m,]]\u001b[38;5;241m.\u001b[39mset_visible(\u001b[38;5;28;01mFalse\u001b[39;00m)\n",
            "\u001b[1;31mModuleNotFoundError\u001b[0m: No module named 'matplotlib'"
          ]
        }
      ],
      "source": [
        "from matplotlib import pyplot as plt\n",
        "data['Sprinkler_Duration'].plot(kind='hist', bins=20, title='Sprinkler_Duration')\n",
        "plt.gca().spines[['top', 'right',]].set_visible(False)"
      ]
    },
    {
      "cell_type": "code",
      "execution_count": null,
      "metadata": {
        "colab": {
          "base_uri": "https://localhost:8080/",
          "height": 472
        },
        "id": "7Y9DQl6pUaGq",
        "outputId": "cadedcef-d0f0-4f9a-8407-458f355b0bc1"
      },
      "outputs": [
        {
          "ename": "ModuleNotFoundError",
          "evalue": "No module named 'matplotlib'",
          "output_type": "error",
          "traceback": [
            "\u001b[1;31m---------------------------------------------------------------------------\u001b[0m",
            "\u001b[1;31mModuleNotFoundError\u001b[0m                       Traceback (most recent call last)",
            "Cell \u001b[1;32mIn[4], line 3\u001b[0m\n\u001b[0;32m      1\u001b[0m \u001b[38;5;66;03m# @title Humidity vs Temperature\u001b[39;00m\n\u001b[1;32m----> 3\u001b[0m \u001b[38;5;28;01mimport\u001b[39;00m \u001b[38;5;21;01mmatplotlib\u001b[39;00m\u001b[38;5;21;01m.\u001b[39;00m\u001b[38;5;21;01mpyplot\u001b[39;00m \u001b[38;5;28;01mas\u001b[39;00m \u001b[38;5;21;01mplt\u001b[39;00m\n\u001b[0;32m      4\u001b[0m plt\u001b[38;5;241m.\u001b[39mscatter(data[\u001b[38;5;124m'\u001b[39m\u001b[38;5;124mTemperature\u001b[39m\u001b[38;5;124m'\u001b[39m], data[\u001b[38;5;124m'\u001b[39m\u001b[38;5;124mHumidity\u001b[39m\u001b[38;5;124m'\u001b[39m], c\u001b[38;5;241m=\u001b[39mdata[\u001b[38;5;124m'\u001b[39m\u001b[38;5;124mTemperature\u001b[39m\u001b[38;5;124m'\u001b[39m], cmap\u001b[38;5;241m=\u001b[39m\u001b[38;5;124m'\u001b[39m\u001b[38;5;124mjet\u001b[39m\u001b[38;5;124m'\u001b[39m)\n\u001b[0;32m      5\u001b[0m plt\u001b[38;5;241m.\u001b[39mxlabel(\u001b[38;5;124m'\u001b[39m\u001b[38;5;124mTemperature\u001b[39m\u001b[38;5;124m'\u001b[39m)\n",
            "\u001b[1;31mModuleNotFoundError\u001b[0m: No module named 'matplotlib'"
          ]
        }
      ],
      "source": [
        "# @title Humidity vs Temperature\n",
        "\n",
        "import matplotlib.pyplot as plt\n",
        "plt.scatter(data['Temperature'], data['Humidity'], c=data['Temperature'], cmap='jet')\n",
        "plt.xlabel('Temperature')\n",
        "plt.ylabel('Humidity')\n",
        "_ = plt.title('Humidity vs Temperature')"
      ]
    },
    {
      "cell_type": "code",
      "execution_count": null,
      "metadata": {
        "id": "1ntnZX4bSNh1"
      },
      "outputs": [],
      "source": [
        "# X = data[[\"Temperature\", \"Humidity\"]]  # Features\n",
        "# X.columns = [\"Temperature\", \"Humidity\"]  # Assign feature names\n",
        "# y = data[\"Sprinkler_Duration\"]  # Target variable"
      ]
    },
    {
      "cell_type": "code",
      "execution_count": null,
      "metadata": {
        "id": "1xS9aeUcSbfB"
      },
      "outputs": [],
      "source": [
        "X = data.drop('Sprinkler_Duration',axis=1)\n",
        "y = data['Sprinkler_Duration']"
      ]
    },
    {
      "cell_type": "code",
      "execution_count": null,
      "metadata": {
        "id": "y9Z__6s64IJG"
      },
      "outputs": [],
      "source": [
        "X_train, X_test, y_train, y_test = train_test_split(X, y, test_size=0.2)"
      ]
    },
    {
      "cell_type": "markdown",
      "metadata": {
        "id": "i3LhEh2AS2bg"
      },
      "source": [
        "Model"
      ]
    },
    {
      "cell_type": "code",
      "execution_count": null,
      "metadata": {
        "id": "D946GNl34Kmy"
      },
      "outputs": [],
      "source": [
        "model = LinearRegression()\n",
        "model.fit(X_train, y_train)\n",
        "y_predicted = model.predict(X_test)"
      ]
    },
    {
      "cell_type": "code",
      "execution_count": null,
      "metadata": {
        "colab": {
          "base_uri": "https://localhost:8080/"
        },
        "id": "ufdinBeA4MtQ",
        "outputId": "07678298-1c77-470c-c1ff-24114a662a0e"
      },
      "outputs": [
        {
          "name": "stdout",
          "output_type": "stream",
          "text": [
            "Mean Squared Error: 21.840100876008574\n"
          ]
        }
      ],
      "source": [
        "mse = mean_squared_error(y_test, y_predicted)\n",
        "print(\"Mean Squared Error:\", mse)"
      ]
    },
    {
      "cell_type": "markdown",
      "metadata": {
        "id": "pgnAwVPsSyen"
      },
      "source": [
        "Testing with user input"
      ]
    },
    {
      "cell_type": "code",
      "execution_count": null,
      "metadata": {
        "id": "aJjCtc5J4O2I"
      },
      "outputs": [],
      "source": [
        "# Assigning feature names to the new data for prediction\n",
        "new_data = pd.DataFrame([[28, 85]], columns=[\"Temperature\", \"Humidity\"])"
      ]
    },
    {
      "cell_type": "code",
      "execution_count": null,
      "metadata": {
        "colab": {
          "base_uri": "https://localhost:8080/"
        },
        "id": "1Ru0avwU4Q7h",
        "outputId": "94dcb2df-5d92-4fae-e891-8b4a14601c0b"
      },
      "outputs": [
        {
          "name": "stdout",
          "output_type": "stream",
          "text": [
            "Predicted running time for 21 degrees Celsius and 80 % humidity: 49.71329660653353\n"
          ]
        }
      ],
      "source": [
        "predicted_time = model.predict(new_data)\n",
        "print(\"Predicted running time for 21 degrees Celsius and 80 % humidity:\", predicted_time[0])"
      ]
    },
    {
      "cell_type": "code",
      "execution_count": null,
      "metadata": {
        "id": "y4noWXVWTpLP"
      },
      "outputs": [],
      "source": [
        "import pickle\n",
        "pickle.dump(model, open('sprink.pkl', 'wb'))"
      ]
    },
    {
      "cell_type": "code",
      "execution_count": null,
      "metadata": {
        "id": "epOogT37TwFi"
      },
      "outputs": [],
      "source": [
        "pickled_model = pickle.load(open('sprink.pkl', 'rb'))\n",
        "pickle_pred =pickled_model.predict(X_test)"
      ]
    },
    {
      "cell_type": "code",
      "execution_count": null,
      "metadata": {
        "colab": {
          "base_uri": "https://localhost:8080/"
        },
        "id": "f4_fwahhUCMI",
        "outputId": "4c16d564-d2c6-4a85-9698-1dac405f9718"
      },
      "outputs": [
        {
          "data": {
            "text/plain": [
              "array([29.4406298 , 39.14806054, 44.57748126, 41.22992174, 39.62308975,\n",
              "       40.76490073, 48.76426109, 40.72952199, 49.32099032, 48.38586899,\n",
              "       52.35524899, 44.75160312, 43.81405388, 45.1612493 , 44.69404741,\n",
              "       39.69684687, 43.94467075, 47.32616228, 32.60930695, 45.58636935,\n",
              "       32.80335516, 45.01653997, 40.55755608, 49.07371102, 40.0750385 ,\n",
              "       41.25730403, 43.98227748, 49.48512995, 47.5491158 , 47.59947657,\n",
              "       43.18746267, 40.59379429, 40.09991827, 51.88687926, 38.00247843,\n",
              "       50.79611897, 37.29238347, 43.05657931, 31.0008692 , 44.09673713,\n",
              "       44.31808574, 50.56409595, 50.18180727, 41.74592743, 42.59123251,\n",
              "       49.33866218, 48.51798486, 50.16310064, 44.81371407, 43.15608634,\n",
              "       52.10915853, 43.69476613, 45.67448565, 43.84922243, 48.18008106,\n",
              "       46.2196369 , 52.59415648, 46.10670552, 52.92518695, 53.27024144,\n",
              "       55.26005522, 45.43936826, 41.68678609, 43.07027457, 47.80465447,\n",
              "       48.68325326, 45.75000694, 36.45901278, 46.0051677 , 39.09896487,\n",
              "       41.90527519, 45.1024279 , 43.88427469, 41.25678752, 55.49379043,\n",
              "       41.65380648, 41.04895311, 41.15341114, 38.66985041, 38.09722054,\n",
              "       37.77642735, 40.48023078, 45.3366501 , 43.46727942, 44.91016367,\n",
              "       46.0683084 , 38.13459651, 44.21024673, 47.36524946, 34.73968082,\n",
              "       34.63777992, 41.90358052, 50.71620419, 37.62005989, 36.58833272,\n",
              "       39.54647064, 48.99406226, 39.37687596, 45.32730114, 43.23859486,\n",
              "       51.61089149, 37.94723443, 47.81978435, 41.31689312, 50.87265535,\n",
              "       42.00158913, 41.54345153, 31.41399729, 43.10100005, 33.88458967,\n",
              "       43.70419622, 45.85966357, 36.24875956, 44.5838428 , 38.70825708,\n",
              "       35.87132661, 48.42674438, 48.63744874, 46.29716913, 45.10794747,\n",
              "       49.97360437, 42.67125524, 45.66151451, 51.85418675, 50.63574942,\n",
              "       54.02820413, 40.63448075, 43.82431274, 31.1757993 , 44.32982425,\n",
              "       42.96720136, 42.20960178, 33.48563377, 46.93558329, 35.69629429,\n",
              "       40.76224321, 50.73163702, 39.86070329, 45.3020812 , 42.57471058,\n",
              "       45.52024714, 32.59376239, 50.14285162, 48.57024668, 37.35540177,\n",
              "       39.27436899, 40.64759838, 40.12016713, 38.63120447, 41.46911966,\n",
              "       52.89554665, 43.97486713, 40.42339455, 41.99485554, 36.13112518,\n",
              "       45.06687599, 44.54375375, 34.97973195, 42.87151409, 53.71424504,\n",
              "       44.96902197, 45.25739621, 41.60628616, 38.86078099, 50.96418335,\n",
              "       50.78565312, 42.77010744, 41.37516806, 53.85215654, 45.13743092,\n",
              "       40.62058783, 41.23705415, 45.962584  , 36.31692762, 44.20029877,\n",
              "       35.79003478, 29.80065232, 34.12159665, 43.48594311, 42.82101078,\n",
              "       39.61949686, 41.29828121, 36.68680596, 41.37260083, 41.06893961,\n",
              "       35.89893723, 50.04172201, 49.73321976, 39.98660695, 33.01511765,\n",
              "       44.70595161, 46.65026583, 42.97163689, 39.30946083, 41.88236014,\n",
              "       47.30942512, 44.14225085, 45.87085315, 42.31248158, 40.0511432 ])"
            ]
          },
          "execution_count": 20,
          "metadata": {},
          "output_type": "execute_result"
        }
      ],
      "source": [
        "pickle_pred"
      ]
    },
    {
      "cell_type": "code",
      "execution_count": null,
      "metadata": {
        "colab": {
          "base_uri": "https://localhost:8080/"
        },
        "id": "fsld-7HJUHN8",
        "outputId": "238d2aee-3cf8-4a02-f1e2-06c097ac3bc6"
      },
      "outputs": [
        {
          "name": "stdout",
          "output_type": "stream",
          "text": [
            "pickle model accuracy: 22.705378426579088\n"
          ]
        }
      ],
      "source": [
        "acc = mean_squared_error(y_test, pickle_pred)\n",
        "print(\"pickle model accuracy:\", acc)"
      ]
    },
    {
      "cell_type": "code",
      "execution_count": null,
      "metadata": {
        "id": "NLZDWBFT_0ys"
      },
      "outputs": [],
      "source": [
        "# import pickle\n",
        "\n",
        "# # Assuming you have a trained model stored in a variable named 'model'\n",
        "# # Replace 'model' with the name of your actual model variable\n",
        "\n",
        "# # Save the model to a .pkl file\n",
        "# with open('model.pkl', 'wb') as file:\n",
        "#     pickle.dump(model, file)\n"
      ]
    }
  ],
  "metadata": {
    "colab": {
      "provenance": []
    },
    "kernelspec": {
      "display_name": "Python 3",
      "name": "python3"
    },
    "language_info": {
      "codemirror_mode": {
        "name": "ipython",
        "version": 3
      },
      "file_extension": ".py",
      "mimetype": "text/x-python",
      "name": "python",
      "nbconvert_exporter": "python",
      "pygments_lexer": "ipython3",
      "version": "3.12.0"
    }
  },
  "nbformat": 4,
  "nbformat_minor": 0
}
